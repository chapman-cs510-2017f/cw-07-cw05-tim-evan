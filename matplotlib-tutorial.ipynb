{
 "cells": [
  {
   "cell_type": "code",
   "execution_count": 1,
   "metadata": {
    "collapsed": false
   },
   "outputs": [
   ],
   "source": [
    "import matplotlib.pyplot as plt\n",
    "import numpy as np"
   ]
  },
  {
   "cell_type": "markdown",
   "metadata": {
    "collapsed": false
   },
   "source": [
    "# Simple Plot #"
   ]
  },
  {
   "cell_type": "code",
   "execution_count": 2,
   "metadata": {
    "collapsed": false
   },
   "outputs": [
    {
     "data": {
      "image/png": "[encoded data removed]"
     },
     "output_type": "execute_result"
    }
   ],
   "source": [
    "plt.figure(figsize=(8, 5), dpi=85)\n",
    "plt.subplot(111)\n",
    "\n",
    "X = np.linspace(-np.pi, np.pi, 256, endpoint=True)\n",
    "C, S = np.cos(X), np.sin(X)\n",
    "\n",
    "plt.plot(X, C)\n",
    "plt.plot(X, S)\n",
    "\n",
    "plt.show()"
   ]
  },
  {
   "cell_type": "markdown",
   "metadata": {
    "collapsed": false
   },
   "source": [
    "Going Line by line, the first line is\n",
    "```python\n",
    "X = np.linspace(-np.pi, np.pi, 256, endpoint=True)\n",
    "```\n",
    "This generates a numpy array with 256 values ranging between $ -\\pi $  to  $ \\pi $ with an endpoint.\n",
    "The next line is\n",
    "```python\n",
    "C, S = np.cos(X), np.sin(X)\n",
    "```\n",
    "This sets C to a numpy array of cos(X) values. Since we are taking cos(X), C must also have the same number of values as X, which was set to 256.\n",
    "Similiarly for S, S is set to a numpy array of sin(X) values.\n",
    "\n",
    "Next we plot X vs. C and X vs. S, which is analogous to plotting the cosine and sine functions since that's what we set C and S to.\n",
    "we plot by using the plot() method from matplotlib.pyplot.\n",
    "```python\n",
    "plt.plot(X, C)\n",
    "plt.plot(X, S)\n",
    "```\n",
    "And lastly, we display the plot using show() method from matplotlib.pyplot.\n",
    "```pyhton\n",
    "plt.show()\n",
    "```\n"
   ]
  },
  {
   "cell_type": "markdown",
   "metadata": {
    "collapsed": false
   },
   "source": [
    "## Changing colors and line widths ##"
   ]
  },
  {
   "cell_type": "code",
   "execution_count": 3,
   "metadata": {
    "collapsed": false
   },
   "outputs": [
    {
     "data": {
      "image/png": "[encoded data removed]"
     },
     "output_type": "execute_result"
    }
   ],
   "source": [
    "plt.figure(figsize=(8, 5), dpi=85)\n",
    "plt.subplot(111)\n",
    "\n",
    "X = np.linspace(-10, 10, 100, endpoint=True)\n",
    "C, S = 10*X*X, X*X*X\n",
    "M = 1000*(np.sin(X))/X\n",
    "\n",
    "plt.plot(X, C, color = \"green\")\n",
    "plt.plot(X, S, linewidth = 5.0)\n",
    "plt.plot(X, M, linestyle = \"--\")\n",
    "\n",
    "plt.show()"
   ]
  },
  {
   "cell_type": "markdown",
   "metadata": {
    "collapsed": false
   },
   "source": [
    "As seen above, by adding parameters to plot(), we can control specifics of the line being plotted. Above we show how to change linestyles, color, and linewidth"
   ]
  },
  {
   "cell_type": "markdown",
   "metadata": {
    "collapsed": false
   },
   "source": [
    "## Setting limits, ticks, and tick labels ##"
   ]
  },
  {
   "cell_type": "code",
   "execution_count": 4,
   "metadata": {
    "collapsed": false
   },
   "outputs": [
    {
     "data": {
      "image/png": "[encoded data removed]"
     },
     "output_type": "execute_result"
    }
   ],
   "source": [
    "plt.figure(figsize=(8, 5), dpi=85)\n",
    "plt.subplot(111)\n",
    "\n",
    "X = np.linspace(-10, 10, 100, endpoint=True)\n",
    "C, S = 10*X*X, X*X*X\n",
    "M = 1000*(np.sin(X))/X\n",
    "\n",
    "plt.plot(X, C, color = \"green\")\n",
    "plt.plot(X, S, linewidth = 5.0)\n",
    "plt.plot(X, M, linestyle = \"--\")\n",
    "\n",
    "plt.xlim(-20.0, 4.0)\n",
    "plt.ylim(-250,1000)\n",
    "\n",
    "plt.xticks([-20, -15, -10, -5, 0, 4])\n",
    "plt.yticks([-250, -150, -100, 0, 500, 1000])\n",
    "\n",
    "plt.show()"
   ]
  },
  {
   "cell_type": "markdown",
   "metadata": {
    "collapsed": false
   },
   "source": [
    "NOTE: the curve cuts off at -10 because we gave the x values a specific range -10 to 10, anything above or below that will have no corresponding \"y\" value since the y values were defined using the X linspace."
   ]
  },
  {
   "cell_type": "markdown",
   "metadata": {
    "collapsed": false
   },
   "source": [
    "Using xlim() and ylim() from matplot we can set the min and max of x and y to be displayed. to set the ticks on the plot we use xticks() and yticks() from plot. as we can see, the ticks are placed in their respective spots, staying true to their distances. also, a note, if the ticks are larger than than the limits, the graph will be stretched to accomodate the ticks"
   ]
  },
  {
   "cell_type": "markdown",
   "metadata": {
    "collapsed": false
   },
   "source": [
    "If we add a second list argument to xticks() or yticks(), we can define tick labels. this is useful when our ticks are irrational or uneasy to read. an example of tick labels below. Also, a helpful tool for setting ylim is using the min() and max(). Since we set our X bounds in the numpy array, we know what the limit should be. However we do not know the bounds of the yvals, so we can set bounds on the plot with ylim(Y.min(),Y.max()), also shown below."
   ]
  },
  {
   "cell_type": "code",
   "execution_count": 5,
   "metadata": {
    "collapsed": false
   },
   "outputs": [
    {
     "data": {
      "image/png": "[encoded data removed]"
     },
     "output_type": "execute_result"
    }
   ],
   "source": [
    "plt.figure(figsize=(8, 5), dpi=85)\n",
    "plt.subplot(111)\n",
    "\n",
    "X = np.linspace(-5, 5, 100, endpoint=True)\n",
    "M = (np.sin(2*X))/X\n",
    "\n",
    "plt.plot(X, M, color = \"green\", linewidth= 2.5, linestyle = \"-\")\n",
    "\n",
    "plt.xlim(-5, 5)\n",
    "plt.ylim(M.min() - 1, M.max() + 1)\n",
    "\n",
    "plt.xticks([-(3/2)*np.pi, -np.pi, -np.pi/2, 0, np.pi/2, np.pi, (3/2)*np.pi],\n",
    "          [r'$-3\\pi/2$' , r'$-\\pi$', r'$-\\pi/2$', r'$0$', r'$+\\pi/2$', r'$+\\pi$',r'$3\\pi/2$'])\n",
    "\n",
    "plt.show()"
   ]
  },
  {
   "cell_type": "markdown",
   "metadata": {
    "collapsed": false
   },
   "source": [
    "## Setting Axis Positions, Creating Legends, Creating Annotations ##"
   ]
  },
  {
   "cell_type": "markdown",
   "metadata": {
    "collapsed": false
   },
   "source": [
    "Below is an example of setting axis positions"
   ]
  },
  {
   "cell_type": "code",
   "execution_count": 6,
   "metadata": {
    "collapsed": false
   },
   "outputs": [
    {
     "data": {
      "image/png": "[encoded data removed]"
     },
     "output_type": "execute_result"
    }
   ],
   "source": [
    "#setting axis positions\n",
    "plt.figure(figsize=(8, 5), dpi=85)\n",
    "plt.subplot(111)\n",
    "\n",
    "X = np.linspace(-5, 5, 100, endpoint=True)\n",
    "M = (np.sin(2*X))/X\n",
    "\n",
    "plt.plot(X, M, color = \"green\", linewidth= 2.5, linestyle = \"-\")\n",
    "\n",
    "plt.xlim(-5, 5)\n",
    "plt.ylim(M.min() - .5, M.max() + .5)\n",
    "\n",
    "plt.xticks([-(3/2)*np.pi, -np.pi, -np.pi/2, 0, np.pi/2, np.pi, (3/2)*np.pi],\n",
    "          [r'$-3\\pi/2$' , r'$-\\pi$', r'$-\\pi/2$', r'$0$', r'$+\\pi/2$', r'$+\\pi$',r'$3\\pi/2$'])\n",
    "\n",
    "axis = plt.gca()  #get current axis\n",
    "axis.spines['right'].set_color('none') # make right border or \"spine\" colorless\n",
    "axis.spines['top'].set_color('none') # make top border or \"spine\" colorless\n",
    "axis.spines['bottom'].set_position(('data',0)) #moves our bottom spine, our x-axis, up to 0\n",
    "axis.spines['left'].set_position(('data',0)) #moves our lefft spine, our y-axis, to 0\n",
    "\n",
    "plt.show()"
   ]
  },
  {
   "cell_type": "markdown",
   "metadata": {
    "collapsed": false
   },
   "source": [
    "As briefly explained by the comments, we can use plt.gca() to \"get current axis\" and move the individual spines to desired places. we do this by using the set_position() and set_color() methods. by setting the top and right spines to white color, they disappear. by seting the bottom and left spines to \"data at 0\", we can create our axis."
   ]
  },
  {
   "cell_type": "markdown",
   "metadata": {
    "collapsed": false
   },
   "source": [
    "Below is an example of creating legends"
   ]
  },
  {
   "cell_type": "code",
   "execution_count": 7,
   "metadata": {
    "collapsed": false
   },
   "outputs": [
    {
     "data": {
      "image/png": "[encoded data removed]"
     },
     "output_type": "execute_result"
    }
   ],
   "source": [
    "#creating legends\n",
    "plt.figure(figsize=(8, 5), dpi=85)\n",
    "plt.subplot(111)\n",
    "\n",
    "X = np.linspace(-10, 10, 100, endpoint=True)\n",
    "C = X*np.sin(2*X)\n",
    "M = 10*(np.sin(2*X))/X\n",
    "\n",
    "plt.plot(X, C, color = \"blue\", linewidth = 2.0, label = r'$xsin(2x)$')\n",
    "plt.plot(X, M, color = \"red\"  , linewidth = 2.0, label = r'$\\frac{10sin(2x)}{x}$', linestyle = \"--\")\n",
    "\n",
    "plt.legend(loc='upper right')\n",
    "\n",
    "plt.show()"
   ]
  },
  {
   "cell_type": "markdown",
   "metadata": {
    "collapsed": false
   },
   "source": [
    "by adding an extra parameter label to plot, we can give the plot a label so that the legend can display them. using plt.legend() we can create a legend and by passing a parameter loc into legend(), we can place the legend in a specific spot on the plot."
   ]
  },
  {
   "cell_type": "markdown",
   "metadata": {
    "collapsed": false
   },
   "source": [
    "Below is an example of annotations, including every aspect we've went over previously in this notebook. It's long for code in jupyter, but this will be for my future refrences"
   ]
  },
  {
   "cell_type": "code",
   "execution_count": 8,
   "metadata": {
    "collapsed": false
   },
   "outputs": [
    {
     "data": {
      "text/plain": [
       "<matplotlib.text.Annotation at 0x7fa676cb2be0>"
      ]
     },
     "execution_count": 8,
     "metadata": {
     },
     "output_type": "execute_result"
    },
    {
     "data": {
      "image/png": "[encoded data removed]"
     },
     "output_type": "execute_result"
    }
   ],
   "source": [
    "plt.figure(figsize=(9, 6), dpi=85)\n",
    "plt.subplot(111)\n",
    "\n",
    "X = np.linspace(-5, 5, 100, endpoint=True)\n",
    "M = (np.sin(2*X))/X\n",
    "C = X*np.sin(X)\n",
    "\n",
    "plt.plot(X, C, color = \"red\", linewidth = 2.0, label = r'$xsin(x)$')\n",
    "plt.plot(X, M, color = \"blue\", linewidth= 2.0, label = r'$\\frac{sin(2x)}{x}$', linestyle = \"-\")\n",
    "\n",
    "plt.xlim(-5, 5)\n",
    "plt.ylim(M.min() - .5, M.max() + .5)\n",
    "\n",
    "plt.xticks([-(3/2)*np.pi, -np.pi, -np.pi/2, 0, np.pi/2, np.pi, (3/2)*np.pi],\n",
    "          [r'$-3\\pi/2$' , r'$-\\pi$', r'$-\\pi/2$', r'$0$', r'$+\\pi/2$', r'$+\\pi$',r'$3\\pi/2$'])\n",
    "\n",
    "axis = plt.gca()  #get current axis\n",
    "axis.spines['right'].set_color('none') # make right border or \"spine\" colorless\n",
    "axis.spines['top'].set_color('none') # make top border or \"spine\" colorless\n",
    "axis.spines['bottom'].set_position(('data',0)) #moves our bottom spine, our x-axis, up to 0\n",
    "axis.spines['left'].set_position(('data',0)) #moves our lefft spine, our y-axis, to 0\n",
    "\n",
    "plt.legend(loc='center left')   #'best' is also a parameter to legend(), works well\n",
    "\n",
    "\n",
    "\n",
    "\n",
    "\n",
    "t = 2 * np.pi / 3\n",
    "\n",
    "##ANNOTATION FOR XSIN(X) ##\n",
    "plt.annotate(r'$\\frac{sin(2(\\frac{2\\pi}{3}))}{\\frac{2\\pi}{3}} = -0.413 $',      #creates the text for annotations and specifies location,font,etc\n",
    "             xy=(t, (np.sin(2*t))/t), xycoords='data',\n",
    "             xytext=(60, 85), textcoords='offset points', fontsize=15,\n",
    "             arrowprops=dict(arrowstyle=\"->\", connectionstyle=\"arc3,rad=.2\"))\n",
    "\n",
    "plt.plot([t, t],[0, (np.sin(2*t))/t], color='blue', linewidth=1.5, linestyle=\"--\")   #creates dashed line between the two intervals given [x1,x2] to [y1,y2]\n",
    "plt.scatter([t, ],[(np.sin(2*t))/t, ], 40, color='blue')                       #creates the colored dot tht represents the (x,y) coord.\n",
    "\n",
    "\n",
    "##ANNOTATION FOR SIN(2X)/X ##\n",
    "plt.annotate(r'$\\frac{2\\pi}{3}sin(\\frac{2\\pi}{3}) = 1.813$',                      #creates the text for annotations and specifies location,font,etc\n",
    "             xy=(t, t*np.sin(t)), xycoords='data',\n",
    "             xytext=(-25, 40), textcoords='offset points', fontsize=15,\n",
    "             arrowprops=dict(arrowstyle=\"->\", connectionstyle=\"arc3,rad=.2\"))\n",
    "\n",
    "plt.plot([t, t], [0,t*np.sin(t)], color='red', linewidth=1.5, linestyle=\"--\")     #creates dashed line between the two intervals given [x1,x2] to [y1,y2]\n",
    "plt.scatter([t, ], [t*np.sin(t), ], 40, color='red')                            #creates the colored dot tht represents the (x,y) coord.\n",
    "\n",
    "\n",
    "##PLACING TANGENT LINE AND ANNOTATION(USING DERIVATIVE) ##\n",
    "t2 = -t\n",
    "plt.plot([-5, 5], [1.28659,3.098306], color='red', linewidth=1.5, linestyle=\"--\")     #creates dashed line between the two intervals given [x1,x2] to [y1,y2]\n",
    "plt.scatter([t2, ], [t2*np.sin(t2), ], 40, color='red')                            #creates the colored dot tht represents the (x,y) coord.\n",
    "\n",
    "plt.annotate(r'$\\frac{\\delta}{\\delta y}(-\\frac{2\\pi}{3}) = sin((-\\frac{2\\pi}{3})) + (-\\frac{2\\pi}{3})cos((-\\frac{2\\pi}{3})) = .18117 $',      #creates the text for annotations and specifies location,font,etc\n",
    "             xy=(t2, t2*np.sin(t2)), xycoords='data',\n",
    "             xytext=(-200, 30), textcoords='offset points', fontsize=12,\n",
    "             arrowprops=dict(arrowstyle=\"->\", connectionstyle=\"arc3,rad=.2\"))\n",
    "\n",
    "pi = 3.14159\n",
    "plt.scatter([-pi, ], [.181178*(-pi) + 2.19244, ], 10, color='red')\n",
    "plt.annotate(r'$f(x) = .1812(x) + 2.192 $',      #creates the text for annotations and specifies location,font,etc\n",
    "             xy=(-pi, .181178*(-pi) + 2.19244), xycoords='data',\n",
    "             xytext=(-100, 20), textcoords='offset points', fontsize=10,\n",
    "             arrowprops=dict(arrowstyle=\"->\", connectionstyle=\"arc3,rad=.2\"))\n"
   ]
  },
  {
   "cell_type": "markdown",
   "metadata": {
    "collapsed": false
   },
   "source": [
    "## Contour Plot ##"
   ]
  },
  {
   "cell_type": "code",
   "execution_count": 9,
   "metadata": {
    "collapsed": false
   },
   "outputs": [
    {
     "data": {
      "image/png": "[encoded data removed]"
     },
     "output_type": "execute_result"
    }
   ],
   "source": [
    "def f(x,y):\n",
    "    return np.sqrt(x**2 + y**2)                   #(1 - x / 2 + x**5 + y**3) * np.exp(-x**2 -y**2)\n",
    "\n",
    "x = np.linspace(-3, 3, 256)\n",
    "y = np.linspace(-3, 3, 256)\n",
    "X,Y = np.meshgrid(x, y)\n",
    "\n",
    "plt.axes([1,1,1,1])      #need clarification\n",
    "\n",
    "plt.contourf(X, Y, f(X, Y), 10, alpha=.75, cmap=plt.cm.cool)    #alpha controls color density, \n",
    "C = plt.contour(X, Y, f(X, Y), 10, colors='black', linewidth=.5)\n",
    "plt.clabel(C, inline=1, fontsize=10) #inline=1, dnt know what it does yet\n",
    "\n",
    "plt.xticks(())   # deletes x ticks, no need in a contour plt\n",
    "plt.yticks(())   # deletes y ticks, no need in a contour plt\n",
    "\n",
    "plt.show()"
   ]
  },
  {
   "cell_type": "code",
   "execution_count": 10,
   "metadata": {
    "collapsed": false
   },
   "outputs": [
    {
     "ename": "SyntaxError",
     "evalue": "invalid syntax (<ipython-input-10-6f28d1dd94ce>, line 1)",
     "output_type": "error",
     "traceback": [
      "\u001b[0;36m  File \u001b[0;32m\"<ipython-input-10-6f28d1dd94ce>\"\u001b[0;36m, line \u001b[0;32m1\u001b[0m\n\u001b[0;31m    talk talk talk\u001b[0m\n\u001b[0m            ^\u001b[0m\n\u001b[0;31mSyntaxError\u001b[0m\u001b[0;31m:\u001b[0m invalid syntax\n"
     ]
    }
   ],
   "source": [
    "talk talk talk"
   ]
  },
  {
   "cell_type": "markdown",
   "metadata": {
    "collapsed": false
   },
   "source": [
    "## imshow ##"
   ]
  },
  {
   "cell_type": "code",
   "execution_count": 11,
   "metadata": {
    "collapsed": false
   },
   "outputs": [
    {
     "data": {
      "image/png": "[encoded data removed]"
     },
     "output_type": "execute_result"
    }
   ],
   "source": [
    "def f(x, y):\n",
    "    return  np.sqrt(x**2 + y**2)           #(1 - x / 2 + x ** 5 + y ** 3 ) * np.exp(-x ** 2 - y ** 2)\n",
    "\n",
    "n = 10\n",
    "x = np.linspace(-3, 3, 3.5 * n)\n",
    "y = np.linspace(-3, 3, 3.0 * n)\n",
    "X, Y = np.meshgrid(x, y)\n",
    "Z = f(X, Y)\n",
    "\n",
    "plt.axes([0.025, 0.025, 0.95, 0.95])\n",
    "plt.imshow(Z, interpolation='nearest', cmap='bone', origin='lower')\n",
    "plt.colorbar(shrink=.92)      #creates color bar legend\n",
    "\n",
    "plt.xticks(())\n",
    "plt.yticks(())\n",
    "plt.show()"
   ]
  },
  {
   "cell_type": "markdown",
   "metadata": {
    "collapsed": false
   },
   "source": [
    "## 3D Plots ##"
   ]
  },
  {
   "cell_type": "code",
   "execution_count": 18,
   "metadata": {
    "collapsed": false
   },
   "outputs": [
    {
     "data": {
      "image/png": "[encoded data removed]"
     },
     "output_type": "execute_result"
    }
   ],
   "source": [
    "from mpl_toolkits.mplot3d import Axes3D\n",
    "\n",
    "fig = plt.figure()\n",
    "ax = Axes3D(fig)\n",
    "X = np.arange(-8, 8, 0.25)\n",
    "Y = np.arange(-8, 8, 0.25)\n",
    "X, Y = np.meshgrid(X, Y)\n",
    "R =  (X ** 2 + Y ** 2)\n",
    "Z = np.sqrt(R)\n",
    "\n",
    "ax.plot_surface(X, Y, Z, rstride=1, cstride=1, cmap=plt.cm.hot)\n",
    "ax.contourf(X, Y, Z, zdir='z', offset=0, cmap=plt.cm.hot)\n",
    "#ax.set_zlim(-2, 2)\n",
    "\n",
    "plt.show()"
   ]
  },
  {
   "cell_type": "code",
   "execution_count": 0,
   "metadata": {
    "collapsed": false
   },
   "outputs": [
   ],
   "source": [
   ]
  },
  {
   "cell_type": "code",
   "execution_count": 0,
   "metadata": {
    "collapsed": false
   },
   "outputs": [
   ],
   "source": [
   ]
  }
 ],
 "metadata": {
  "kernelspec": {
   "display_name": "Python 3 (Anaconda)",
   "language": "python",
   "name": "anaconda3"
  },
  "language_info": {
   "codemirror_mode": {
    "name": "ipython",
    "version": 3
   },
   "file_extension": ".py",
   "mimetype": "text/x-python",
   "name": "python",
   "nbconvert_exporter": "python",
   "pygments_lexer": "ipython3",
   "version": "3.5.4"
  }
 },
 "nbformat": 4,
 "nbformat_minor": 0
}